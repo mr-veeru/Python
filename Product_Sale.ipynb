{
 "cells": [
  {
   "cell_type": "code",
   "execution_count": 1,
   "id": "adcc0f2a",
   "metadata": {},
   "outputs": [
    {
     "data": {
      "text/html": [
       "<div>\n",
       "<style scoped>\n",
       "    .dataframe tbody tr th:only-of-type {\n",
       "        vertical-align: middle;\n",
       "    }\n",
       "\n",
       "    .dataframe tbody tr th {\n",
       "        vertical-align: top;\n",
       "    }\n",
       "\n",
       "    .dataframe thead th {\n",
       "        text-align: right;\n",
       "    }\n",
       "</style>\n",
       "<table border=\"1\" class=\"dataframe\">\n",
       "  <thead>\n",
       "    <tr style=\"text-align: right;\">\n",
       "      <th></th>\n",
       "      <th>age</th>\n",
       "      <th>sal</th>\n",
       "      <th>result</th>\n",
       "    </tr>\n",
       "  </thead>\n",
       "  <tbody>\n",
       "    <tr>\n",
       "      <th>0</th>\n",
       "      <td>12</td>\n",
       "      <td>52000</td>\n",
       "      <td>1</td>\n",
       "    </tr>\n",
       "    <tr>\n",
       "      <th>1</th>\n",
       "      <td>13</td>\n",
       "      <td>55500</td>\n",
       "      <td>0</td>\n",
       "    </tr>\n",
       "    <tr>\n",
       "      <th>2</th>\n",
       "      <td>16</td>\n",
       "      <td>54300</td>\n",
       "      <td>1</td>\n",
       "    </tr>\n",
       "    <tr>\n",
       "      <th>3</th>\n",
       "      <td>54</td>\n",
       "      <td>545400</td>\n",
       "      <td>1</td>\n",
       "    </tr>\n",
       "    <tr>\n",
       "      <th>4</th>\n",
       "      <td>45</td>\n",
       "      <td>454500</td>\n",
       "      <td>0</td>\n",
       "    </tr>\n",
       "  </tbody>\n",
       "</table>\n",
       "</div>"
      ],
      "text/plain": [
       "   age     sal  result\n",
       "0   12   52000       1\n",
       "1   13   55500       0\n",
       "2   16   54300       1\n",
       "3   54  545400       1\n",
       "4   45  454500       0"
      ]
     },
     "execution_count": 1,
     "metadata": {},
     "output_type": "execute_result"
    }
   ],
   "source": [
    "import pandas as pd   #importing pandas\n",
    "\n",
    "dataset = pd.read_csv(\"Product_Sale.csv\")   #reading CSV file\n",
    "dataset.head()   #displaying first 5 rows"
   ]
  },
  {
   "cell_type": "code",
   "execution_count": 2,
   "id": "829d0ad7",
   "metadata": {
    "scrolled": true
   },
   "outputs": [
    {
     "name": "stdout",
     "output_type": "stream",
     "text": [
      "(101, 3)\n",
      "<class 'pandas.core.frame.DataFrame'>\n",
      "RangeIndex: 101 entries, 0 to 100\n",
      "Data columns (total 3 columns):\n",
      " #   Column  Non-Null Count  Dtype\n",
      "---  ------  --------------  -----\n",
      " 0   age     101 non-null    int64\n",
      " 1   sal     101 non-null    int64\n",
      " 2   result  101 non-null    int64\n",
      "dtypes: int64(3)\n",
      "memory usage: 2.5 KB\n",
      "None\n"
     ]
    },
    {
     "data": {
      "text/html": [
       "<div>\n",
       "<style scoped>\n",
       "    .dataframe tbody tr th:only-of-type {\n",
       "        vertical-align: middle;\n",
       "    }\n",
       "\n",
       "    .dataframe tbody tr th {\n",
       "        vertical-align: top;\n",
       "    }\n",
       "\n",
       "    .dataframe thead th {\n",
       "        text-align: right;\n",
       "    }\n",
       "</style>\n",
       "<table border=\"1\" class=\"dataframe\">\n",
       "  <thead>\n",
       "    <tr style=\"text-align: right;\">\n",
       "      <th></th>\n",
       "      <th>age</th>\n",
       "      <th>sal</th>\n",
       "      <th>result</th>\n",
       "    </tr>\n",
       "  </thead>\n",
       "  <tbody>\n",
       "    <tr>\n",
       "      <th>count</th>\n",
       "      <td>101.000000</td>\n",
       "      <td>101.000000</td>\n",
       "      <td>101.000000</td>\n",
       "    </tr>\n",
       "    <tr>\n",
       "      <th>mean</th>\n",
       "      <td>43.376238</td>\n",
       "      <td>427069.376238</td>\n",
       "      <td>0.702970</td>\n",
       "    </tr>\n",
       "    <tr>\n",
       "      <th>std</th>\n",
       "      <td>19.235307</td>\n",
       "      <td>251940.672208</td>\n",
       "      <td>0.459229</td>\n",
       "    </tr>\n",
       "    <tr>\n",
       "      <th>min</th>\n",
       "      <td>12.000000</td>\n",
       "      <td>10900.000000</td>\n",
       "      <td>0.000000</td>\n",
       "    </tr>\n",
       "    <tr>\n",
       "      <th>25%</th>\n",
       "      <td>26.000000</td>\n",
       "      <td>233200.000000</td>\n",
       "      <td>0.000000</td>\n",
       "    </tr>\n",
       "    <tr>\n",
       "      <th>50%</th>\n",
       "      <td>45.000000</td>\n",
       "      <td>494900.000000</td>\n",
       "      <td>1.000000</td>\n",
       "    </tr>\n",
       "    <tr>\n",
       "      <th>75%</th>\n",
       "      <td>58.000000</td>\n",
       "      <td>600000.000000</td>\n",
       "      <td>1.000000</td>\n",
       "    </tr>\n",
       "    <tr>\n",
       "      <th>max</th>\n",
       "      <td>88.000000</td>\n",
       "      <td>966900.000000</td>\n",
       "      <td>1.000000</td>\n",
       "    </tr>\n",
       "  </tbody>\n",
       "</table>\n",
       "</div>"
      ],
      "text/plain": [
       "              age            sal      result\n",
       "count  101.000000     101.000000  101.000000\n",
       "mean    43.376238  427069.376238    0.702970\n",
       "std     19.235307  251940.672208    0.459229\n",
       "min     12.000000   10900.000000    0.000000\n",
       "25%     26.000000  233200.000000    0.000000\n",
       "50%     45.000000  494900.000000    1.000000\n",
       "75%     58.000000  600000.000000    1.000000\n",
       "max     88.000000  966900.000000    1.000000"
      ]
     },
     "execution_count": 2,
     "metadata": {},
     "output_type": "execute_result"
    }
   ],
   "source": [
    "print(dataset.shape)   # Displaying rows and columns\n",
    "print(dataset.info())   # Information in dataframe\n",
    "dataset.describe()   # Statistics of dataset"
   ]
  },
  {
   "cell_type": "markdown",
   "id": "76afab91",
   "metadata": {},
   "source": [
    "# Percentage of people bought and not bought the product"
   ]
  },
  {
   "cell_type": "code",
   "execution_count": 3,
   "id": "19a6f3e6",
   "metadata": {},
   "outputs": [
    {
     "name": "stdout",
     "output_type": "stream",
     "text": [
      "Total num of people bought the product is:  71\n",
      "percentage of people bought the product in the data set is:  70.29702970297029\n",
      "Total num of people not bought the product is:  30\n",
      "percentage of non bought the product in the data set is:  29.7029702970297 \n",
      "\n"
     ]
    }
   ],
   "source": [
    "bought = 0\n",
    "not_bought = 0\n",
    "status = dataset[\"result\"]\n",
    "for i in range(len(status)):\n",
    "    if status[i]==1:\n",
    "        bought+=1\n",
    "    else:\n",
    "        not_bought+=1\n",
    "\n",
    "print(\"Total num of people bought the product is: \", bought)\n",
    "bought_per = (bought/len(status))*100\n",
    "print(\"percentage of people bought the product in the data set is: \", bought_per)\n",
    "\n",
    "print(\"Total num of people not bought the product is: \", not_bought)\n",
    "not_bought_per = (not_bought/len(status))*100\n",
    "print(\"percentage of non bought the product in the data set is: \", not_bought_per, \"\\n\")"
   ]
  },
  {
   "cell_type": "markdown",
   "id": "e8dea672",
   "metadata": {},
   "source": [
    "# Plotting the graph between people who bought the product and not bought the product"
   ]
  },
  {
   "cell_type": "code",
   "execution_count": 4,
   "id": "97cedd58",
   "metadata": {},
   "outputs": [
    {
     "data": {
      "image/png": "[encoded data removed]",
      "text/plain": [
       "<Figure size 432x288 with 1 Axes>"
      ]
     },
     "metadata": {
      "needs_background": "light"
     },
     "output_type": "display_data"
    }
   ],
   "source": [
    "import matplotlib.pyplot as plt   # Importing matplotlib\n",
    "import seaborn as sns\n",
    "\n",
    "import warnings\n",
    "warnings.simplefilter(action = \"ignore\", category = FutureWarning)\n",
    "\n",
    "sns.distplot(dataset[\"result\"], kde = False)\n",
    "\n",
    "plt.show()   # Graph for num of movies in first 5 languages"
   ]
  },
  {
   "cell_type": "markdown",
   "id": "40d35a8f",
   "metadata": {},
   "source": [
    "# For modeling we need to split dataset\n",
    "    0.8 = 80% of data will use to train the model\n",
    "    0.2 = 20% of data will validate the model"
   ]
  },
  {
   "cell_type": "code",
   "execution_count": 5,
   "id": "924effdb",
   "metadata": {},
   "outputs": [],
   "source": [
    "from sklearn.model_selection import train_test_split\n",
    "\n",
    "# Segregating labels into separate variable\n",
    "x = dataset.iloc[:, :-1].values\n",
    "y = dataset.iloc[:,-1].values\n",
    "\n",
    "x_train, x_test, y_train, y_test = train_test_split(x, y, test_size=0.2, random_state = 6)"
   ]
  },
  {
   "cell_type": "code",
   "execution_count": 6,
   "id": "f7f64165",
   "metadata": {},
   "outputs": [],
   "source": [
    "from sklearn.preprocessing import StandardScaler   #importing StandardScaler\n",
    "\n",
    "sc = StandardScaler()   # Assigning StandardScaler to sc\n",
    "x_train = sc.fit_transform(x_train)\n",
    "x_test = sc.transform(x_test)"
   ]
  },
  {
   "cell_type": "code",
   "execution_count": 7,
   "id": "b334deb5",
   "metadata": {},
   "outputs": [
    {
     "data": {
      "text/plain": [
       "LogisticRegression()"
      ]
     },
     "execution_count": 7,
     "metadata": {},
     "output_type": "execute_result"
    }
   ],
   "source": [
    "from sklearn.linear_model import LogisticRegression   # import LogisticRegression\n",
    "\n",
    "log_reg = LogisticRegression()   # Assigning LogisticRegression() to log_reg\n",
    "log_reg.fit(x_train, y_train)   #fitting log_reg to the train the model"
   ]
  },
  {
   "cell_type": "code",
   "execution_count": 8,
   "id": "e161288a",
   "metadata": {},
   "outputs": [
    {
     "name": "stdout",
     "output_type": "stream",
     "text": [
      "Accuracy of logistic regression classifert:  0.8095238095238095\n"
     ]
    },
    {
     "data": {
      "text/plain": [
       "array([[ 0,  4],\n",
       "       [ 0, 17]], dtype=int64)"
      ]
     },
     "execution_count": 8,
     "metadata": {},
     "output_type": "execute_result"
    }
   ],
   "source": [
    "from sklearn.metrics import confusion_matrix # import confusion_matrix\n",
    "\n",
    "y_predict = log_reg.predict(x_test)   #predict instances from the test set\n",
    "\n",
    "# finding score for logreg model\n",
    "print(\"Accuracy of logistic regression classifert: \", log_reg.score(x_test, y_test))\n",
    "\n",
    "confusion_matrix(y_test, y_predict)"
   ]
  },
  {
   "cell_type": "code",
   "execution_count": 9,
   "id": "74af0a20",
   "metadata": {},
   "outputs": [
    {
     "name": "stdout",
     "output_type": "stream",
     "text": [
      "Enter new customer age: 36\n",
      "Enter new customer salary: 633600\n",
      "[1]\n",
      "Customer will buy\n"
     ]
    }
   ],
   "source": [
    "age = int(input(\"Enter new customer age: \"))   #asking the user to enter the age\n",
    "sal = int(input(\"Enter new customer salary: \"))   #asking the user to enter the sal\n",
    "new_cust = [[age, sal]]   #storing the data given by user in new_cust\n",
    "result = log_reg.predict(sc.transform(new_cust))   #predicting whether customer will buy the product or not\n",
    "print(result)\n",
    "if result == 1:\n",
    "    print(\"Customer will buy\")\n",
    "else:\n",
    "    print(\"Customer won't buy\")"
   ]
  }
 ],
 "metadata": {
  "kernelspec": {
   "display_name": "Python 3",
   "language": "python",
   "name": "python3"
  },
  "language_info": {
   "codemirror_mode": {
    "name": "ipython",
    "version": 3
   },
   "file_extension": ".py",
   "mimetype": "text/x-python",
   "name": "python",
   "nbconvert_exporter": "python",
   "pygments_lexer": "ipython3",
   "version": "3.8.8"
  }
 },
 "nbformat": 4,
 "nbformat_minor": 5
}
